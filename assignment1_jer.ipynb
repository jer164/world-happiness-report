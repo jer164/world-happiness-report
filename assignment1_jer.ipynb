{
 "cells": [
  {
   "attachments": {},
   "cell_type": "markdown",
   "metadata": {},
   "source": [
    "## Assignment 1\n",
    "\n",
    "**Jackson Rudoff**\n",
    "Projects in Machine Learning\n",
    "February 7, 2023\n",
    " "
   ]
  },
  {
   "attachments": {},
   "cell_type": "markdown",
   "metadata": {},
   "source": [
    "### Reviewing the Data\n",
    "\n",
    "The World Happiness Data includes an interesting mix of data. The numeric features are a collection of observed variables, taken by the researchers to regress against respondents' answers to an assessment of Life Evaluation. The categorical features are all geographical, simply denoting respondent's country, region, and sub-region.\n",
    "\n",
    "Taking a look at the data:"
   ]
  },
  {
   "cell_type": "code",
   "execution_count": 11,
   "metadata": {},
   "outputs": [
    {
     "data": {
      "text/html": [
       "<div>\n",
       "<style scoped>\n",
       "    .dataframe tbody tr th:only-of-type {\n",
       "        vertical-align: middle;\n",
       "    }\n",
       "\n",
       "    .dataframe tbody tr th {\n",
       "        vertical-align: top;\n",
       "    }\n",
       "\n",
       "    .dataframe thead th {\n",
       "        text-align: right;\n",
       "    }\n",
       "</style>\n",
       "<table border=\"1\" class=\"dataframe\">\n",
       "  <thead>\n",
       "    <tr style=\"text-align: right;\">\n",
       "      <th></th>\n",
       "      <th>Country or region</th>\n",
       "      <th>GDP per capita</th>\n",
       "      <th>Social support</th>\n",
       "      <th>Healthy life expectancy</th>\n",
       "      <th>Freedom to make life choices</th>\n",
       "      <th>Generosity</th>\n",
       "      <th>Perceptions of corruption</th>\n",
       "      <th>name</th>\n",
       "      <th>region</th>\n",
       "      <th>sub-region</th>\n",
       "      <th>Terrorist_attacks</th>\n",
       "    </tr>\n",
       "  </thead>\n",
       "  <tbody>\n",
       "    <tr>\n",
       "      <th>0</th>\n",
       "      <td>Peru</td>\n",
       "      <td>0.960</td>\n",
       "      <td>1.274</td>\n",
       "      <td>0.854</td>\n",
       "      <td>0.455</td>\n",
       "      <td>0.083</td>\n",
       "      <td>0.027</td>\n",
       "      <td>Peru</td>\n",
       "      <td>Americas</td>\n",
       "      <td>Latin America and the Caribbean</td>\n",
       "      <td>18.000000</td>\n",
       "    </tr>\n",
       "    <tr>\n",
       "      <th>1</th>\n",
       "      <td>Nicaragua</td>\n",
       "      <td>0.694</td>\n",
       "      <td>1.325</td>\n",
       "      <td>0.835</td>\n",
       "      <td>0.435</td>\n",
       "      <td>0.200</td>\n",
       "      <td>0.127</td>\n",
       "      <td>Nicaragua</td>\n",
       "      <td>Americas</td>\n",
       "      <td>Latin America and the Caribbean</td>\n",
       "      <td>125.611111</td>\n",
       "    </tr>\n",
       "    <tr>\n",
       "      <th>2</th>\n",
       "      <td>Greece</td>\n",
       "      <td>1.181</td>\n",
       "      <td>1.156</td>\n",
       "      <td>0.999</td>\n",
       "      <td>0.067</td>\n",
       "      <td>0.000</td>\n",
       "      <td>0.034</td>\n",
       "      <td>Greece</td>\n",
       "      <td>Europe</td>\n",
       "      <td>Southern Europe</td>\n",
       "      <td>112.000000</td>\n",
       "    </tr>\n",
       "    <tr>\n",
       "      <th>3</th>\n",
       "      <td>Qatar</td>\n",
       "      <td>1.684</td>\n",
       "      <td>1.313</td>\n",
       "      <td>0.871</td>\n",
       "      <td>0.555</td>\n",
       "      <td>0.220</td>\n",
       "      <td>0.167</td>\n",
       "      <td>Qatar</td>\n",
       "      <td>Asia</td>\n",
       "      <td>Western Asia</td>\n",
       "      <td>57.333333</td>\n",
       "    </tr>\n",
       "    <tr>\n",
       "      <th>4</th>\n",
       "      <td>Uzbekistan</td>\n",
       "      <td>0.745</td>\n",
       "      <td>1.529</td>\n",
       "      <td>0.756</td>\n",
       "      <td>0.631</td>\n",
       "      <td>0.322</td>\n",
       "      <td>0.240</td>\n",
       "      <td>Uzbekistan</td>\n",
       "      <td>Asia</td>\n",
       "      <td>Central Asia</td>\n",
       "      <td>125.611111</td>\n",
       "    </tr>\n",
       "  </tbody>\n",
       "</table>\n",
       "</div>"
      ],
      "text/plain": [
       "  Country or region  GDP per capita  Social support  Healthy life expectancy  \\\n",
       "0              Peru           0.960           1.274                    0.854   \n",
       "1         Nicaragua           0.694           1.325                    0.835   \n",
       "2            Greece           1.181           1.156                    0.999   \n",
       "3             Qatar           1.684           1.313                    0.871   \n",
       "4        Uzbekistan           0.745           1.529                    0.756   \n",
       "\n",
       "   Freedom to make life choices  Generosity  Perceptions of corruption  \\\n",
       "0                         0.455       0.083                      0.027   \n",
       "1                         0.435       0.200                      0.127   \n",
       "2                         0.067       0.000                      0.034   \n",
       "3                         0.555       0.220                      0.167   \n",
       "4                         0.631       0.322                      0.240   \n",
       "\n",
       "         name    region                       sub-region  Terrorist_attacks  \n",
       "0        Peru  Americas  Latin America and the Caribbean          18.000000  \n",
       "1   Nicaragua  Americas  Latin America and the Caribbean         125.611111  \n",
       "2      Greece    Europe                  Southern Europe         112.000000  \n",
       "3       Qatar      Asia                     Western Asia          57.333333  \n",
       "4  Uzbekistan      Asia                     Central Asia         125.611111  "
      ]
     },
     "execution_count": 11,
     "metadata": {},
     "output_type": "execute_result"
    }
   ],
   "source": [
    "import pandas as pd\n",
    "from zipfile import ZipFile\n",
    "\n",
    "with ZipFile(\"world_happiness_competition_data.zip\", 'r') as zObject:\n",
    "  \n",
    "    zObject.extractall()\n",
    "\n",
    "X_train = pd.read_csv(\"world_happiness_competition_data\\X_train.csv\")\n",
    "X_test = pd.read_csv(\"world_happiness_competition_data\\X_test.csv\")\n",
    "y_train = pd.read_csv(\"world_happiness_competition_data\\y_train.csv\")\n",
    "y_train_labels = y_train.idxmax(axis=1) # so we know what the heck is going on\n",
    "\n",
    "X_train.head()"
   ]
  },
  {
   "cell_type": "code",
   "execution_count": 12,
   "metadata": {},
   "outputs": [],
   "source": [
    "#load the preprocessor\n",
    "\n",
    "from sklearn.preprocessing import StandardScaler, OneHotEncoder\n",
    "from sklearn.compose import ColumnTransformer, make_column_transformer\n",
    "from sklearn.pipeline import Pipeline\n",
    "from sklearn.impute import SimpleImputer\n",
    "from sklearn.preprocessing import StandardScaler, OneHotEncoder\n",
    "\n",
    "\n",
    "numeric_features = X_train.drop(['Country or region', 'name', 'region', 'sub-region'], axis=1)\n",
    "numeric_features=numeric_features.columns.tolist()\n",
    "\n",
    "numeric_transformer = Pipeline(steps=[\n",
    "    ('imputer', SimpleImputer(strategy='median')),\n",
    "    ('scaler', StandardScaler())])\n",
    "\n",
    "categorical_features = ['region', 'sub-region']\n",
    "\n",
    "categorical_transformer = Pipeline(steps=[\n",
    "    ('imputer', SimpleImputer(strategy='most_frequent')),\n",
    "    ('onehot', OneHotEncoder(handle_unknown='ignore'))])\n",
    "\n",
    "\n",
    "preprocessor = ColumnTransformer(\n",
    "    transformers=[\n",
    "        ('num', numeric_transformer, numeric_features),\n",
    "        ('cat', categorical_transformer, categorical_features)])\n",
    "\n",
    "preprocess=preprocessor.fit(X_train) \n",
    "\n"
   ]
  },
  {
   "cell_type": "code",
   "execution_count": 13,
   "metadata": {},
   "outputs": [
    {
     "data": {
      "text/plain": [
       "['x0_Africa',\n",
       " 'x0_Americas',\n",
       " 'x0_Asia',\n",
       " 'x0_Europe',\n",
       " 'x0_Oceania',\n",
       " 'x1_Australia and New Zealand',\n",
       " 'x1_Central Asia',\n",
       " 'x1_Eastern Asia',\n",
       " 'x1_Eastern Europe',\n",
       " 'x1_Latin America and the Caribbean',\n",
       " 'x1_Northern Africa',\n",
       " 'x1_Northern America',\n",
       " 'x1_Northern Europe',\n",
       " 'x1_South-eastern Asia',\n",
       " 'x1_Southern Asia',\n",
       " 'x1_Southern Europe',\n",
       " 'x1_Sub-Saharan Africa',\n",
       " 'x1_Western Asia',\n",
       " 'x1_Western Europe']"
      ]
     },
     "execution_count": 13,
     "metadata": {},
     "output_type": "execute_result"
    }
   ],
   "source": [
    "# Get feature names \n",
    "\n",
    "temp_pipe = Pipeline([('Preprocessing', preprocessor)])\n",
    "one_hot_names = temp_pipe['Preprocessing'].transformers_[1][1]\\\n",
    "    ['onehot'].get_feature_names().tolist()\n",
    "one_hot_names"
   ]
  },
  {
   "cell_type": "code",
   "execution_count": 14,
   "metadata": {},
   "outputs": [
    {
     "data": {
      "text/html": [
       "<div>\n",
       "<style scoped>\n",
       "    .dataframe tbody tr th:only-of-type {\n",
       "        vertical-align: middle;\n",
       "    }\n",
       "\n",
       "    .dataframe tbody tr th {\n",
       "        vertical-align: top;\n",
       "    }\n",
       "\n",
       "    .dataframe thead th {\n",
       "        text-align: right;\n",
       "    }\n",
       "</style>\n",
       "<table border=\"1\" class=\"dataframe\">\n",
       "  <thead>\n",
       "    <tr style=\"text-align: right;\">\n",
       "      <th></th>\n",
       "      <th>GDP per capita</th>\n",
       "      <th>Social support</th>\n",
       "      <th>Healthy life expectancy</th>\n",
       "      <th>Freedom to make life choices</th>\n",
       "      <th>Generosity</th>\n",
       "      <th>Perceptions of corruption</th>\n",
       "      <th>Terrorist_attacks</th>\n",
       "      <th>x0_Africa</th>\n",
       "      <th>x0_Americas</th>\n",
       "      <th>x0_Asia</th>\n",
       "      <th>...</th>\n",
       "      <th>x1_Latin America and the Caribbean</th>\n",
       "      <th>x1_Northern Africa</th>\n",
       "      <th>x1_Northern America</th>\n",
       "      <th>x1_Northern Europe</th>\n",
       "      <th>x1_South-eastern Asia</th>\n",
       "      <th>x1_Southern Asia</th>\n",
       "      <th>x1_Southern Europe</th>\n",
       "      <th>x1_Sub-Saharan Africa</th>\n",
       "      <th>x1_Western Asia</th>\n",
       "      <th>x1_Western Europe</th>\n",
       "    </tr>\n",
       "  </thead>\n",
       "  <tbody>\n",
       "    <tr>\n",
       "      <th>0</th>\n",
       "      <td>0.104445</td>\n",
       "      <td>0.206031</td>\n",
       "      <td>0.458311</td>\n",
       "      <td>0.486237</td>\n",
       "      <td>-0.997766</td>\n",
       "      <td>-0.858243</td>\n",
       "      <td>-0.366739</td>\n",
       "      <td>0.0</td>\n",
       "      <td>1.0</td>\n",
       "      <td>0.0</td>\n",
       "      <td>...</td>\n",
       "      <td>1.0</td>\n",
       "      <td>0.0</td>\n",
       "      <td>0.0</td>\n",
       "      <td>0.0</td>\n",
       "      <td>0.0</td>\n",
       "      <td>0.0</td>\n",
       "      <td>0.0</td>\n",
       "      <td>0.0</td>\n",
       "      <td>0.0</td>\n",
       "      <td>0.0</td>\n",
       "    </tr>\n",
       "    <tr>\n",
       "      <th>1</th>\n",
       "      <td>-0.543882</td>\n",
       "      <td>0.380595</td>\n",
       "      <td>0.377911</td>\n",
       "      <td>0.357819</td>\n",
       "      <td>0.150055</td>\n",
       "      <td>0.115273</td>\n",
       "      <td>-0.225145</td>\n",
       "      <td>0.0</td>\n",
       "      <td>1.0</td>\n",
       "      <td>0.0</td>\n",
       "      <td>...</td>\n",
       "      <td>1.0</td>\n",
       "      <td>0.0</td>\n",
       "      <td>0.0</td>\n",
       "      <td>0.0</td>\n",
       "      <td>0.0</td>\n",
       "      <td>0.0</td>\n",
       "      <td>0.0</td>\n",
       "      <td>0.0</td>\n",
       "      <td>0.0</td>\n",
       "      <td>0.0</td>\n",
       "    </tr>\n",
       "    <tr>\n",
       "      <th>2</th>\n",
       "      <td>0.643092</td>\n",
       "      <td>-0.197863</td>\n",
       "      <td>1.071894</td>\n",
       "      <td>-2.005071</td>\n",
       "      <td>-1.812032</td>\n",
       "      <td>-0.790096</td>\n",
       "      <td>-0.243054</td>\n",
       "      <td>0.0</td>\n",
       "      <td>0.0</td>\n",
       "      <td>0.0</td>\n",
       "      <td>...</td>\n",
       "      <td>0.0</td>\n",
       "      <td>0.0</td>\n",
       "      <td>0.0</td>\n",
       "      <td>0.0</td>\n",
       "      <td>0.0</td>\n",
       "      <td>0.0</td>\n",
       "      <td>1.0</td>\n",
       "      <td>0.0</td>\n",
       "      <td>0.0</td>\n",
       "      <td>0.0</td>\n",
       "    </tr>\n",
       "    <tr>\n",
       "      <th>3</th>\n",
       "      <td>1.869063</td>\n",
       "      <td>0.339521</td>\n",
       "      <td>0.530249</td>\n",
       "      <td>1.128327</td>\n",
       "      <td>0.346264</td>\n",
       "      <td>0.504679</td>\n",
       "      <td>-0.314984</td>\n",
       "      <td>0.0</td>\n",
       "      <td>0.0</td>\n",
       "      <td>1.0</td>\n",
       "      <td>...</td>\n",
       "      <td>0.0</td>\n",
       "      <td>0.0</td>\n",
       "      <td>0.0</td>\n",
       "      <td>0.0</td>\n",
       "      <td>0.0</td>\n",
       "      <td>0.0</td>\n",
       "      <td>0.0</td>\n",
       "      <td>0.0</td>\n",
       "      <td>1.0</td>\n",
       "      <td>0.0</td>\n",
       "    </tr>\n",
       "    <tr>\n",
       "      <th>4</th>\n",
       "      <td>-0.419579</td>\n",
       "      <td>1.078853</td>\n",
       "      <td>0.043614</td>\n",
       "      <td>1.616315</td>\n",
       "      <td>1.346928</td>\n",
       "      <td>1.215346</td>\n",
       "      <td>-0.225145</td>\n",
       "      <td>0.0</td>\n",
       "      <td>0.0</td>\n",
       "      <td>1.0</td>\n",
       "      <td>...</td>\n",
       "      <td>0.0</td>\n",
       "      <td>0.0</td>\n",
       "      <td>0.0</td>\n",
       "      <td>0.0</td>\n",
       "      <td>0.0</td>\n",
       "      <td>0.0</td>\n",
       "      <td>0.0</td>\n",
       "      <td>0.0</td>\n",
       "      <td>0.0</td>\n",
       "      <td>0.0</td>\n",
       "    </tr>\n",
       "  </tbody>\n",
       "</table>\n",
       "<p>5 rows × 26 columns</p>\n",
       "</div>"
      ],
      "text/plain": [
       "   GDP per capita  Social support  Healthy life expectancy  \\\n",
       "0        0.104445        0.206031                 0.458311   \n",
       "1       -0.543882        0.380595                 0.377911   \n",
       "2        0.643092       -0.197863                 1.071894   \n",
       "3        1.869063        0.339521                 0.530249   \n",
       "4       -0.419579        1.078853                 0.043614   \n",
       "\n",
       "   Freedom to make life choices  Generosity  Perceptions of corruption  \\\n",
       "0                      0.486237   -0.997766                  -0.858243   \n",
       "1                      0.357819    0.150055                   0.115273   \n",
       "2                     -2.005071   -1.812032                  -0.790096   \n",
       "3                      1.128327    0.346264                   0.504679   \n",
       "4                      1.616315    1.346928                   1.215346   \n",
       "\n",
       "   Terrorist_attacks  x0_Africa  x0_Americas  x0_Asia  ...  \\\n",
       "0          -0.366739        0.0          1.0      0.0  ...   \n",
       "1          -0.225145        0.0          1.0      0.0  ...   \n",
       "2          -0.243054        0.0          0.0      0.0  ...   \n",
       "3          -0.314984        0.0          0.0      1.0  ...   \n",
       "4          -0.225145        0.0          0.0      1.0  ...   \n",
       "\n",
       "   x1_Latin America and the Caribbean  x1_Northern Africa  \\\n",
       "0                                 1.0                 0.0   \n",
       "1                                 1.0                 0.0   \n",
       "2                                 0.0                 0.0   \n",
       "3                                 0.0                 0.0   \n",
       "4                                 0.0                 0.0   \n",
       "\n",
       "   x1_Northern America  x1_Northern Europe  x1_South-eastern Asia  \\\n",
       "0                  0.0                 0.0                    0.0   \n",
       "1                  0.0                 0.0                    0.0   \n",
       "2                  0.0                 0.0                    0.0   \n",
       "3                  0.0                 0.0                    0.0   \n",
       "4                  0.0                 0.0                    0.0   \n",
       "\n",
       "   x1_Southern Asia  x1_Southern Europe  x1_Sub-Saharan Africa  \\\n",
       "0               0.0                 0.0                    0.0   \n",
       "1               0.0                 0.0                    0.0   \n",
       "2               0.0                 1.0                    0.0   \n",
       "3               0.0                 0.0                    0.0   \n",
       "4               0.0                 0.0                    0.0   \n",
       "\n",
       "   x1_Western Asia  x1_Western Europe  \n",
       "0              0.0                0.0  \n",
       "1              0.0                0.0  \n",
       "2              0.0                0.0  \n",
       "3              1.0                0.0  \n",
       "4              0.0                0.0  \n",
       "\n",
       "[5 rows x 26 columns]"
      ]
     },
     "execution_count": 14,
     "metadata": {},
     "output_type": "execute_result"
    }
   ],
   "source": [
    "# make function\n",
    "\n",
    "def preprocessor(data):\n",
    "    data.drop(['Country or region', 'name'], axis=1)\n",
    "    preprocessed_data=preprocess.transform(data)\n",
    "    return preprocessed_data\n",
    "\n",
    "# make labeled features\n",
    "\n",
    "processed_X = preprocessor(X_train)\n",
    "X_train_labels = pd.DataFrame(processed_X, columns = numeric_features + one_hot_names)\n",
    "X_train_labels.head()\n",
    "  "
   ]
  },
  {
   "attachments": {},
   "cell_type": "markdown",
   "metadata": {},
   "source": [
    "Notably, the numeric features also need some scaling, largely due to the Terrorist_attacks variable. "
   ]
  },
  {
   "attachments": {},
   "cell_type": "markdown",
   "metadata": {},
   "source": [
    "### 1 - Bivariate Analysis\n",
    "Let's see how each variable relates to our target, \"Happiness\" (which is in this case a dummy-coded categorical outcome).\n",
    "\n",
    "There's a few ways we could do this, but maybe to start off it would be good to get a picture of the features' covariance. This will allow us to better understand the relationships between our features.\n",
    "\n"
   ]
  },
  {
   "attachments": {},
   "cell_type": "markdown",
   "metadata": {},
   "source": [
    "![covariance](images/covariance_new.jpg)"
   ]
  },
  {
   "attachments": {},
   "cell_type": "markdown",
   "metadata": {},
   "source": [
    "Already some very interesting findings here. Most notably, we can see the (perhaps unsurprising) negative association between the group of `[GDP per cap, Life exptectancy, generosity]` and `Terrorist attacks`. This information will be useful as I start fitting the model and evaluating features. \n",
    "\n",
    "Another element of this matrix worth noting is the lack of covariance between region and the numeric variables, aside from `Africa` and `Sub-Saharan Africa`. This points toward a distribution `Happiness` values that is heavily concentrated toward the lower end.\n",
    "\n",
    "I also want to take a look at the distribution of `Happiness` values by region. \n"
   ]
  },
  {
   "attachments": {},
   "cell_type": "markdown",
   "metadata": {},
   "source": [
    "![covariance](images/region_plot.png)\n",
    "![covariance](images/hist.jpg)"
   ]
  },
  {
   "attachments": {},
   "cell_type": "markdown",
   "metadata": {},
   "source": [
    "We're again seeing a pattern here of `Africa` being distributed toward lower scores. I also find it interesting, however, that Asia has a shomewhat normal distribution of `Happiness` values.\n",
    "\n",
    "\n",
    "What if we go by sub-region?\n"
   ]
  },
  {
   "attachments": {},
   "cell_type": "markdown",
   "metadata": {},
   "source": [
    "![covariance](images/sub_region_plot.jpg)"
   ]
  },
  {
   "attachments": {},
   "cell_type": "markdown",
   "metadata": {},
   "source": [
    "Sub-Saharan Africa really is what drags down the larger region in terms of `Happiness`. \n",
    "\n",
    "I want to take a look as well at some of the numeric features. Given how these were derived - and what some of them represent - I am guessing the interactions will not be too surprising. For example, with `GDP`:\n",
    "\n",
    "![gdp](images/per_cap.png)\n",
    "!![gdp](images/scatter_gdp.png)"
   ]
  },
  {
   "attachments": {},
   "cell_type": "markdown",
   "metadata": {},
   "source": [
    "As one would expect, having a higher average `GDP` will correspond to a higher mean `Happiness` score. Mapped with regionality, we can see why African states tend to score lower, as they tend towards the bottom of `GDP`, which is evidently a strong individual predictor of `Happiness`. \n",
    "\n",
    "Things get a little more noisy, however, with `Freedom`, `Perceptions of Corruption`, and `Generosity`:\n",
    "\n",
    "![free](images/free_plot.png)\n",
    "![poc](images/p_o_c.png)\n",
    "![geno](images/generosity_plot.png)"
   ]
  },
  {
   "attachments": {},
   "cell_type": "markdown",
   "metadata": {},
   "source": [
    "In these cases, we see some less straightforward distributions. Particularly with `Generosity`, there's a U-shape `Happiness` may be indicative of some trouble ahead when incorporating that feature."
   ]
  },
  {
   "attachments": {},
   "cell_type": "markdown",
   "metadata": {},
   "source": [
    "### 2 - Feature Examination/Selection"
   ]
  },
  {
   "attachments": {},
   "cell_type": "markdown",
   "metadata": {},
   "source": [
    "With this all established, it's clear that we likely will want to eliminate features from our model at some point. For example, if we take a look at a table of feature importances from one of my initial test models:"
   ]
  },
  {
   "cell_type": "code",
   "execution_count": 15,
   "metadata": {},
   "outputs": [
    {
     "data": {
      "text/html": [
       "<div>\n",
       "<style scoped>\n",
       "    .dataframe tbody tr th:only-of-type {\n",
       "        vertical-align: middle;\n",
       "    }\n",
       "\n",
       "    .dataframe tbody tr th {\n",
       "        vertical-align: top;\n",
       "    }\n",
       "\n",
       "    .dataframe thead th {\n",
       "        text-align: right;\n",
       "    }\n",
       "</style>\n",
       "<table border=\"1\" class=\"dataframe\">\n",
       "  <thead>\n",
       "    <tr style=\"text-align: right;\">\n",
       "      <th></th>\n",
       "      <th>index</th>\n",
       "      <th>Importance</th>\n",
       "    </tr>\n",
       "  </thead>\n",
       "  <tbody>\n",
       "    <tr>\n",
       "      <th>0</th>\n",
       "      <td>GDP per capita</td>\n",
       "      <td>0.153665</td>\n",
       "    </tr>\n",
       "    <tr>\n",
       "      <th>2</th>\n",
       "      <td>Healthy life expectancy</td>\n",
       "      <td>0.142748</td>\n",
       "    </tr>\n",
       "    <tr>\n",
       "      <th>1</th>\n",
       "      <td>Social support</td>\n",
       "      <td>0.137618</td>\n",
       "    </tr>\n",
       "    <tr>\n",
       "      <th>5</th>\n",
       "      <td>Perceptions of corruption</td>\n",
       "      <td>0.108789</td>\n",
       "    </tr>\n",
       "    <tr>\n",
       "      <th>3</th>\n",
       "      <td>Freedom to make life choices</td>\n",
       "      <td>0.097828</td>\n",
       "    </tr>\n",
       "    <tr>\n",
       "      <th>4</th>\n",
       "      <td>Generosity</td>\n",
       "      <td>0.087371</td>\n",
       "    </tr>\n",
       "    <tr>\n",
       "      <th>6</th>\n",
       "      <td>Terrorist_attacks</td>\n",
       "      <td>0.078960</td>\n",
       "    </tr>\n",
       "    <tr>\n",
       "      <th>23</th>\n",
       "      <td>x1_Sub-Saharan Africa</td>\n",
       "      <td>0.034324</td>\n",
       "    </tr>\n",
       "    <tr>\n",
       "      <th>10</th>\n",
       "      <td>x0_Europe</td>\n",
       "      <td>0.021195</td>\n",
       "    </tr>\n",
       "    <tr>\n",
       "      <th>7</th>\n",
       "      <td>x0_Africa</td>\n",
       "      <td>0.020834</td>\n",
       "    </tr>\n",
       "    <tr>\n",
       "      <th>16</th>\n",
       "      <td>x1_Latin America and the Caribbean</td>\n",
       "      <td>0.015391</td>\n",
       "    </tr>\n",
       "    <tr>\n",
       "      <th>9</th>\n",
       "      <td>x0_Asia</td>\n",
       "      <td>0.015030</td>\n",
       "    </tr>\n",
       "    <tr>\n",
       "      <th>21</th>\n",
       "      <td>x1_Southern Asia</td>\n",
       "      <td>0.013999</td>\n",
       "    </tr>\n",
       "    <tr>\n",
       "      <th>22</th>\n",
       "      <td>x1_Southern Europe</td>\n",
       "      <td>0.012488</td>\n",
       "    </tr>\n",
       "    <tr>\n",
       "      <th>24</th>\n",
       "      <td>x1_Western Asia</td>\n",
       "      <td>0.009505</td>\n",
       "    </tr>\n",
       "    <tr>\n",
       "      <th>20</th>\n",
       "      <td>x1_South-eastern Asia</td>\n",
       "      <td>0.009072</td>\n",
       "    </tr>\n",
       "    <tr>\n",
       "      <th>17</th>\n",
       "      <td>x1_Northern Africa</td>\n",
       "      <td>0.007898</td>\n",
       "    </tr>\n",
       "    <tr>\n",
       "      <th>8</th>\n",
       "      <td>x0_Americas</td>\n",
       "      <td>0.007701</td>\n",
       "    </tr>\n",
       "    <tr>\n",
       "      <th>15</th>\n",
       "      <td>x1_Eastern Europe</td>\n",
       "      <td>0.007443</td>\n",
       "    </tr>\n",
       "    <tr>\n",
       "      <th>25</th>\n",
       "      <td>x1_Western Europe</td>\n",
       "      <td>0.004489</td>\n",
       "    </tr>\n",
       "    <tr>\n",
       "      <th>19</th>\n",
       "      <td>x1_Northern Europe</td>\n",
       "      <td>0.004186</td>\n",
       "    </tr>\n",
       "    <tr>\n",
       "      <th>13</th>\n",
       "      <td>x1_Central Asia</td>\n",
       "      <td>0.004176</td>\n",
       "    </tr>\n",
       "    <tr>\n",
       "      <th>14</th>\n",
       "      <td>x1_Eastern Asia</td>\n",
       "      <td>0.004010</td>\n",
       "    </tr>\n",
       "    <tr>\n",
       "      <th>12</th>\n",
       "      <td>x1_Australia and New Zealand</td>\n",
       "      <td>0.001205</td>\n",
       "    </tr>\n",
       "    <tr>\n",
       "      <th>18</th>\n",
       "      <td>x1_Northern America</td>\n",
       "      <td>0.000067</td>\n",
       "    </tr>\n",
       "    <tr>\n",
       "      <th>11</th>\n",
       "      <td>x0_Oceania</td>\n",
       "      <td>0.000011</td>\n",
       "    </tr>\n",
       "  </tbody>\n",
       "</table>\n",
       "</div>"
      ],
      "text/plain": [
       "                                 index  Importance\n",
       "0                       GDP per capita    0.153665\n",
       "2              Healthy life expectancy    0.142748\n",
       "1                       Social support    0.137618\n",
       "5            Perceptions of corruption    0.108789\n",
       "3         Freedom to make life choices    0.097828\n",
       "4                           Generosity    0.087371\n",
       "6                    Terrorist_attacks    0.078960\n",
       "23               x1_Sub-Saharan Africa    0.034324\n",
       "10                           x0_Europe    0.021195\n",
       "7                            x0_Africa    0.020834\n",
       "16  x1_Latin America and the Caribbean    0.015391\n",
       "9                              x0_Asia    0.015030\n",
       "21                    x1_Southern Asia    0.013999\n",
       "22                  x1_Southern Europe    0.012488\n",
       "24                     x1_Western Asia    0.009505\n",
       "20               x1_South-eastern Asia    0.009072\n",
       "17                  x1_Northern Africa    0.007898\n",
       "8                          x0_Americas    0.007701\n",
       "15                   x1_Eastern Europe    0.007443\n",
       "25                   x1_Western Europe    0.004489\n",
       "19                  x1_Northern Europe    0.004186\n",
       "13                     x1_Central Asia    0.004176\n",
       "14                     x1_Eastern Asia    0.004010\n",
       "12        x1_Australia and New Zealand    0.001205\n",
       "18                 x1_Northern America    0.000067\n",
       "11                          x0_Oceania    0.000011"
      ]
     },
     "execution_count": 15,
     "metadata": {},
     "output_type": "execute_result"
    }
   ],
   "source": [
    "from sklearn.ensemble import RandomForestClassifier\n",
    "\n",
    "params = {'criterion': 'gini',\n",
    " 'max_depth': 7,\n",
    " 'max_features': 'log2',\n",
    " 'n_estimators': 100}\n",
    "\n",
    "\n",
    "first_model = RandomForestClassifier(**params, random_state = 0)\n",
    "first_model.feature_names = list(X_train_labels.columns.values)\n",
    "first_model.fit(X_train_labels, y_train_labels) # Fitting to the training set.\n",
    "first_model.score(X_train_labels, y_train_labels) # Fit score, 0-1 scale.\n",
    "\n",
    "\n",
    "feat_importances = pd.DataFrame(data = first_model.feature_importances_, columns= ['Importance'], \\\n",
    "                                index=first_model.feature_names).reset_index().sort_values(by = \"Importance\", ascending = False)\n",
    "\n",
    "feat_importances\n"
   ]
  },
  {
   "attachments": {},
   "cell_type": "markdown",
   "metadata": {},
   "source": [
    "The numeric features are generally very important, but many of the dummy-coded regional variables aren't very critical. To evaluate this further, I loaded the original 26 features into an `SequentialFeatureSelector` and isolated the 10 best features in our data. For this experiment, I used `accuracy` as the scoring method. "
   ]
  },
  {
   "cell_type": "code",
   "execution_count": 16,
   "metadata": {},
   "outputs": [
    {
     "data": {
      "text/plain": [
       "SequentialFeatureSelector(cv=10, estimator=RandomForestClassifier(),\n",
       "                          n_features_to_select=10, scoring='accuracy')"
      ]
     },
     "execution_count": 16,
     "metadata": {},
     "output_type": "execute_result"
    }
   ],
   "source": [
    "from sklearn.ensemble import RandomForestClassifier\n",
    "from sklearn.feature_selection import SequentialFeatureSelector\n",
    "\n",
    "# Run selector\n",
    "\n",
    "sfs = SequentialFeatureSelector(RandomForestClassifier(), direction='forward', n_features_to_select=10, scoring = \"accuracy\", cv = 10)\n",
    "sfs.fit(X_train_labels, y_train_labels)"
   ]
  },
  {
   "cell_type": "code",
   "execution_count": 17,
   "metadata": {},
   "outputs": [],
   "source": [
    "import numpy as np\n",
    "\n",
    "sfs_idx = sfs.get_support() # get feature array\n",
    "X_train_idx = np.where(sfs_idx == True) # get feature indices\n",
    "X_train_idx = X_train_idx[0].tolist()\n",
    "\n",
    "# select features\n",
    "\n",
    "sfs_features = X_train_labels.iloc[:, X_train_idx]\n",
    "sfs_test_set = preprocessor(X_test)[..., X_train_idx]"
   ]
  },
  {
   "attachments": {},
   "cell_type": "markdown",
   "metadata": {},
   "source": [
    "We now have an array of the 10 features that are most crucial to our little model. "
   ]
  },
  {
   "cell_type": "code",
   "execution_count": 18,
   "metadata": {},
   "outputs": [
    {
     "data": {
      "text/html": [
       "<div>\n",
       "<style scoped>\n",
       "    .dataframe tbody tr th:only-of-type {\n",
       "        vertical-align: middle;\n",
       "    }\n",
       "\n",
       "    .dataframe tbody tr th {\n",
       "        vertical-align: top;\n",
       "    }\n",
       "\n",
       "    .dataframe thead th {\n",
       "        text-align: right;\n",
       "    }\n",
       "</style>\n",
       "<table border=\"1\" class=\"dataframe\">\n",
       "  <thead>\n",
       "    <tr style=\"text-align: right;\">\n",
       "      <th></th>\n",
       "      <th>GDP per capita</th>\n",
       "      <th>Healthy life expectancy</th>\n",
       "      <th>Freedom to make life choices</th>\n",
       "      <th>Generosity</th>\n",
       "      <th>Perceptions of corruption</th>\n",
       "      <th>Terrorist_attacks</th>\n",
       "      <th>x0_Oceania</th>\n",
       "      <th>x1_Central Asia</th>\n",
       "      <th>x1_Latin America and the Caribbean</th>\n",
       "      <th>x1_South-eastern Asia</th>\n",
       "    </tr>\n",
       "  </thead>\n",
       "  <tbody>\n",
       "    <tr>\n",
       "      <th>0</th>\n",
       "      <td>0.104445</td>\n",
       "      <td>0.458311</td>\n",
       "      <td>0.486237</td>\n",
       "      <td>-0.997766</td>\n",
       "      <td>-0.858243</td>\n",
       "      <td>-0.366739</td>\n",
       "      <td>0.0</td>\n",
       "      <td>0.0</td>\n",
       "      <td>1.0</td>\n",
       "      <td>0.0</td>\n",
       "    </tr>\n",
       "    <tr>\n",
       "      <th>1</th>\n",
       "      <td>-0.543882</td>\n",
       "      <td>0.377911</td>\n",
       "      <td>0.357819</td>\n",
       "      <td>0.150055</td>\n",
       "      <td>0.115273</td>\n",
       "      <td>-0.225145</td>\n",
       "      <td>0.0</td>\n",
       "      <td>0.0</td>\n",
       "      <td>1.0</td>\n",
       "      <td>0.0</td>\n",
       "    </tr>\n",
       "    <tr>\n",
       "      <th>2</th>\n",
       "      <td>0.643092</td>\n",
       "      <td>1.071894</td>\n",
       "      <td>-2.005071</td>\n",
       "      <td>-1.812032</td>\n",
       "      <td>-0.790096</td>\n",
       "      <td>-0.243054</td>\n",
       "      <td>0.0</td>\n",
       "      <td>0.0</td>\n",
       "      <td>0.0</td>\n",
       "      <td>0.0</td>\n",
       "    </tr>\n",
       "    <tr>\n",
       "      <th>3</th>\n",
       "      <td>1.869063</td>\n",
       "      <td>0.530249</td>\n",
       "      <td>1.128327</td>\n",
       "      <td>0.346264</td>\n",
       "      <td>0.504679</td>\n",
       "      <td>-0.314984</td>\n",
       "      <td>0.0</td>\n",
       "      <td>0.0</td>\n",
       "      <td>0.0</td>\n",
       "      <td>0.0</td>\n",
       "    </tr>\n",
       "    <tr>\n",
       "      <th>4</th>\n",
       "      <td>-0.419579</td>\n",
       "      <td>0.043614</td>\n",
       "      <td>1.616315</td>\n",
       "      <td>1.346928</td>\n",
       "      <td>1.215346</td>\n",
       "      <td>-0.225145</td>\n",
       "      <td>0.0</td>\n",
       "      <td>1.0</td>\n",
       "      <td>0.0</td>\n",
       "      <td>0.0</td>\n",
       "    </tr>\n",
       "    <tr>\n",
       "      <th>...</th>\n",
       "      <td>...</td>\n",
       "      <td>...</td>\n",
       "      <td>...</td>\n",
       "      <td>...</td>\n",
       "      <td>...</td>\n",
       "      <td>...</td>\n",
       "      <td>...</td>\n",
       "      <td>...</td>\n",
       "      <td>...</td>\n",
       "      <td>...</td>\n",
       "    </tr>\n",
       "    <tr>\n",
       "      <th>83</th>\n",
       "      <td>0.309179</td>\n",
       "      <td>-0.307609</td>\n",
       "      <td>0.235822</td>\n",
       "      <td>-0.507244</td>\n",
       "      <td>0.358652</td>\n",
       "      <td>1.514850</td>\n",
       "      <td>0.0</td>\n",
       "      <td>0.0</td>\n",
       "      <td>0.0</td>\n",
       "      <td>0.0</td>\n",
       "    </tr>\n",
       "    <tr>\n",
       "      <th>84</th>\n",
       "      <td>0.072759</td>\n",
       "      <td>0.542944</td>\n",
       "      <td>0.023932</td>\n",
       "      <td>-0.065775</td>\n",
       "      <td>-0.858243</td>\n",
       "      <td>-0.378581</td>\n",
       "      <td>0.0</td>\n",
       "      <td>0.0</td>\n",
       "      <td>0.0</td>\n",
       "      <td>0.0</td>\n",
       "    </tr>\n",
       "    <tr>\n",
       "      <th>85</th>\n",
       "      <td>1.013564</td>\n",
       "      <td>1.059199</td>\n",
       "      <td>0.454133</td>\n",
       "      <td>1.602000</td>\n",
       "      <td>1.585282</td>\n",
       "      <td>0.055632</td>\n",
       "      <td>0.0</td>\n",
       "      <td>0.0</td>\n",
       "      <td>0.0</td>\n",
       "      <td>0.0</td>\n",
       "    </tr>\n",
       "    <tr>\n",
       "      <th>86</th>\n",
       "      <td>0.272620</td>\n",
       "      <td>0.623344</td>\n",
       "      <td>0.910016</td>\n",
       "      <td>-1.243027</td>\n",
       "      <td>-0.147576</td>\n",
       "      <td>-0.341739</td>\n",
       "      <td>0.0</td>\n",
       "      <td>0.0</td>\n",
       "      <td>0.0</td>\n",
       "      <td>0.0</td>\n",
       "    </tr>\n",
       "    <tr>\n",
       "      <th>87</th>\n",
       "      <td>-0.595066</td>\n",
       "      <td>-1.005823</td>\n",
       "      <td>-0.046697</td>\n",
       "      <td>-0.781936</td>\n",
       "      <td>-0.215722</td>\n",
       "      <td>-0.229896</td>\n",
       "      <td>0.0</td>\n",
       "      <td>0.0</td>\n",
       "      <td>0.0</td>\n",
       "      <td>0.0</td>\n",
       "    </tr>\n",
       "  </tbody>\n",
       "</table>\n",
       "<p>88 rows × 10 columns</p>\n",
       "</div>"
      ],
      "text/plain": [
       "    GDP per capita  Healthy life expectancy  Freedom to make life choices  \\\n",
       "0         0.104445                 0.458311                      0.486237   \n",
       "1        -0.543882                 0.377911                      0.357819   \n",
       "2         0.643092                 1.071894                     -2.005071   \n",
       "3         1.869063                 0.530249                      1.128327   \n",
       "4        -0.419579                 0.043614                      1.616315   \n",
       "..             ...                      ...                           ...   \n",
       "83        0.309179                -0.307609                      0.235822   \n",
       "84        0.072759                 0.542944                      0.023932   \n",
       "85        1.013564                 1.059199                      0.454133   \n",
       "86        0.272620                 0.623344                      0.910016   \n",
       "87       -0.595066                -1.005823                     -0.046697   \n",
       "\n",
       "    Generosity  Perceptions of corruption  Terrorist_attacks  x0_Oceania  \\\n",
       "0    -0.997766                  -0.858243          -0.366739         0.0   \n",
       "1     0.150055                   0.115273          -0.225145         0.0   \n",
       "2    -1.812032                  -0.790096          -0.243054         0.0   \n",
       "3     0.346264                   0.504679          -0.314984         0.0   \n",
       "4     1.346928                   1.215346          -0.225145         0.0   \n",
       "..         ...                        ...                ...         ...   \n",
       "83   -0.507244                   0.358652           1.514850         0.0   \n",
       "84   -0.065775                  -0.858243          -0.378581         0.0   \n",
       "85    1.602000                   1.585282           0.055632         0.0   \n",
       "86   -1.243027                  -0.147576          -0.341739         0.0   \n",
       "87   -0.781936                  -0.215722          -0.229896         0.0   \n",
       "\n",
       "    x1_Central Asia  x1_Latin America and the Caribbean  x1_South-eastern Asia  \n",
       "0               0.0                                 1.0                    0.0  \n",
       "1               0.0                                 1.0                    0.0  \n",
       "2               0.0                                 0.0                    0.0  \n",
       "3               0.0                                 0.0                    0.0  \n",
       "4               1.0                                 0.0                    0.0  \n",
       "..              ...                                 ...                    ...  \n",
       "83              0.0                                 0.0                    0.0  \n",
       "84              0.0                                 0.0                    0.0  \n",
       "85              0.0                                 0.0                    0.0  \n",
       "86              0.0                                 0.0                    0.0  \n",
       "87              0.0                                 0.0                    0.0  \n",
       "\n",
       "[88 rows x 10 columns]"
      ]
     },
     "execution_count": 18,
     "metadata": {},
     "output_type": "execute_result"
    }
   ],
   "source": [
    "sfs_features\n"
   ]
  },
  {
   "attachments": {},
   "cell_type": "markdown",
   "metadata": {},
   "source": [
    "Some interesting findings here. First, it selected *all* of the numeric features; this is not surprising, as ultimately the regional features are reflections of their inherent numeric data. However, something that might cause issues for us later is that it excluded the best categorical predictor from my initial model, `Sub-Saharan Africa`. This is product of how the process works, I'm fairly sure, as it probably would've been the next feature included had I expanded the field to 11 or 12. But, this again confirms what is already becoming fairly clear, which is that our numeric features are our bread & butter when it comes to accuracy optimization. \n",
    "\n",
    "We'll come back to these, because for the time being I want to build up from a straightforward model (as I did when I first got started with the assignment)."
   ]
  },
  {
   "attachments": {},
   "cell_type": "markdown",
   "metadata": {},
   "source": [
    "### 3 - Three Models\n",
    "\n",
    "\n",
    "To start, I want to go with a basic `GridSearchCV` and `RandomForestClassifier` combination, as it is what I am most familiar with. "
   ]
  },
  {
   "cell_type": "code",
   "execution_count": 19,
   "metadata": {},
   "outputs": [
    {
     "data": {
      "text/plain": [
       "{'criterion': 'gini',\n",
       " 'max_depth': 10,\n",
       " 'max_features': 'sqrt',\n",
       " 'n_estimators': 100}"
      ]
     },
     "execution_count": 19,
     "metadata": {},
     "output_type": "execute_result"
    }
   ],
   "source": [
    "from sklearn.model_selection import GridSearchCV # we already loaded the other packages\n",
    "\n",
    "\n",
    "grid  = {'max_depth': [3, 5, 7, 10], 'n_estimators' : [\n",
    "    100, 200, 400, 500], 'max_features': ['sqrt', 'log2'],'criterion': ['gini', 'entropy']}\n",
    "\n",
    "cv_search = GridSearchCV(estimator=RandomForestClassifier(), param_grid=grid, cv= 10, scoring=\"accuracy\")\n",
    "cv_search.fit(X_train_labels, y_train_labels)\n",
    "best_params = cv_search.best_params_\n",
    "best_params"
   ]
  },
  {
   "cell_type": "code",
   "execution_count": 20,
   "metadata": {},
   "outputs": [
    {
     "data": {
      "text/plain": [
       "1.0"
      ]
     },
     "execution_count": 20,
     "metadata": {},
     "output_type": "execute_result"
    }
   ],
   "source": [
    "first_model = RandomForestClassifier(**best_params, random_state = 0) # feed the best params from the search\n",
    "first_model.feature_names = list(X_train_labels.columns.values) # for later\n",
    "first_model.fit(X_train_labels, y_train_labels) \n",
    "first_model.score(X_train_labels, y_train_labels) "
   ]
  },
  {
   "attachments": {},
   "cell_type": "markdown",
   "metadata": {},
   "source": [
    "Let's see how it fared in the competition:"
   ]
  },
  {
   "attachments": {},
   "cell_type": "markdown",
   "metadata": {},
   "source": [
    "![first](images/first_comp.png)"
   ]
  },
  {
   "attachments": {},
   "cell_type": "markdown",
   "metadata": {},
   "source": [
    "Eh, that's somewhat of an improvement over the usertest defaults. But what if we also add in those features we extracted from the `SequentialFeatureSelector`?"
   ]
  },
  {
   "cell_type": "code",
   "execution_count": 21,
   "metadata": {},
   "outputs": [
    {
     "data": {
      "text/plain": [
       "1.0"
      ]
     },
     "execution_count": 21,
     "metadata": {},
     "output_type": "execute_result"
    }
   ],
   "source": [
    "second_model = RandomForestClassifier(**best_params, random_state = 0)\n",
    "second_model.fit(sfs_features, y_train_labels) \n",
    "second_model.score(sfs_features, y_train_labels) "
   ]
  },
  {
   "attachments": {},
   "cell_type": "markdown",
   "metadata": {},
   "source": [
    "![second](images/second_model.png)"
   ]
  },
  {
   "attachments": {},
   "cell_type": "markdown",
   "metadata": {},
   "source": [
    "Wow, this is MUCH better than the previous model. In fact when I submitted the model, it was the #9 best one on the board, which was far more improvement than I anticipated. \n",
    "\n",
    "However, I also know from prior experience - and from the leaderboard's development - that a `GradientBoostingClassifier` is probably going to have the best performance out of all those available to me. I'm going to test what happens if I use the default parameters, but with my reduced feature list.  "
   ]
  },
  {
   "cell_type": "code",
   "execution_count": 22,
   "metadata": {},
   "outputs": [
    {
     "data": {
      "text/plain": [
       "1.0"
      ]
     },
     "execution_count": 22,
     "metadata": {},
     "output_type": "execute_result"
    }
   ],
   "source": [
    "from sklearn.ensemble import GradientBoostingClassifier\n",
    "model_three = GradientBoostingClassifier(random_state = 0)\n",
    "\n",
    "model_three.fit(sfs_features, y_train_labels)\n",
    "model_three.score(sfs_features, y_train_labels)"
   ]
  },
  {
   "attachments": {},
   "cell_type": "markdown",
   "metadata": {},
   "source": [
    "![three](images/model_three.png)"
   ]
  },
  {
   "attachments": {},
   "cell_type": "markdown",
   "metadata": {},
   "source": [
    "Not as good as the `RandomForestClassifier`, but still pretty good for default parameters with one adjustment. "
   ]
  },
  {
   "attachments": {},
   "cell_type": "markdown",
   "metadata": {},
   "source": [
    "### 4 - Revising the `GradientBoosting`"
   ]
  },
  {
   "attachments": {},
   "cell_type": "markdown",
   "metadata": {},
   "source": [
    "The next task was to discuss models with my team and get an idea of what they were doing to improve their models. Unfortunately, I only received one reply about the modeling process (as of Monday night). So, for better or for worse, I'll just have to look at what others did to improve their model performance.\n",
    "\n",
    "I think the `GradientBoostingClassifier` poses the most potential here, for a few reasons. One, just from viewing the leaderboard, I can see that it's the top performer (with a `RandomForest` in fourth!) out of those others have submitted. Before I just copy what someone else did, I want to run a `GridSearch` and see where it points me. I'm going to go back to our original feature set here as well, just to eliminate some of the noise in my testing."
   ]
  },
  {
   "cell_type": "code",
   "execution_count": 23,
   "metadata": {},
   "outputs": [
    {
     "data": {
      "text/plain": [
       "GridSearchCV(cv=2, estimator=GradientBoostingClassifier(), n_jobs=-1,\n",
       "             param_grid={'learning_rate': [0.1, 0.3, 0.6, 1],\n",
       "                         'max_depth': [3, 5, 8, 10],\n",
       "                         'max_features': ['sqrt', None],\n",
       "                         'n_estimators': [100, 200, 400],\n",
       "                         'subsample': [0.9, 0.5, 0.2]},\n",
       "             scoring='accuracy')"
      ]
     },
     "execution_count": 23,
     "metadata": {},
     "output_type": "execute_result"
    }
   ],
   "source": [
    "parameters = {'learning_rate': [0.1, 0.3, 0.6, 1], \n",
    "              'max_features': ['sqrt', None],\n",
    "              'subsample' : [0.9, 0.5, 0.2],\n",
    "              'n_estimators' : [100, 200, 400],\n",
    "              'max_depth': [3, 5, 8, 10]\n",
    "    }\n",
    "\n",
    "grad_cv = GridSearchCV(GradientBoostingClassifier(), parameters, scoring=\"accuracy\", cv = 2, n_jobs=-1)\n",
    "grad_cv.fit(X_train_labels, y_train_labels)\n",
    "\n",
    "# grab best estimator\n"
   ]
  },
  {
   "cell_type": "code",
   "execution_count": 24,
   "metadata": {},
   "outputs": [
    {
     "data": {
      "text/plain": [
       "GradientBoostingClassifier(max_features='sqrt', subsample=0.5)"
      ]
     },
     "execution_count": 24,
     "metadata": {},
     "output_type": "execute_result"
    }
   ],
   "source": [
    "best_grad_estimator = grad_cv.best_estimator_\n",
    "best_grad_estimator"
   ]
  },
  {
   "cell_type": "code",
   "execution_count": 25,
   "metadata": {},
   "outputs": [
    {
     "data": {
      "text/plain": [
       "{'learning_rate': 0.1,\n",
       " 'max_depth': 3,\n",
       " 'max_features': 'sqrt',\n",
       " 'n_estimators': 100,\n",
       " 'subsample': 0.5}"
      ]
     },
     "execution_count": 25,
     "metadata": {},
     "output_type": "execute_result"
    }
   ],
   "source": [
    "grad_cv.best_params_"
   ]
  },
  {
   "attachments": {},
   "cell_type": "markdown",
   "metadata": {},
   "source": [
    "So, it looks like increasing the `learning_rate`, using `sqrt` for the feature folds, and decreasing the `subsample` slightly improves the performance. Let's fit the model with these parameters:"
   ]
  },
  {
   "cell_type": "code",
   "execution_count": 26,
   "metadata": {},
   "outputs": [
    {
     "data": {
      "text/plain": [
       "1.0"
      ]
     },
     "execution_count": 26,
     "metadata": {},
     "output_type": "execute_result"
    }
   ],
   "source": [
    "fourth_model = GradientBoostingClassifier(**grad_cv.best_params_)\n",
    "fourth_model.fit(X_train_labels, y_train_labels)\n",
    "fourth_model.score(X_train_labels, y_train_labels)"
   ]
  },
  {
   "attachments": {},
   "cell_type": "markdown",
   "metadata": {},
   "source": [
    "![four](images/model_four.png)"
   ]
  },
  {
   "attachments": {},
   "cell_type": "markdown",
   "metadata": {},
   "source": [
    "This model is our best so far. The **accuracy** matches our best `RandomForest`, but it really improved in terms of **precision**. What if we use our reduced feature set?"
   ]
  },
  {
   "cell_type": "code",
   "execution_count": 27,
   "metadata": {},
   "outputs": [
    {
     "data": {
      "text/plain": [
       "1.0"
      ]
     },
     "execution_count": 27,
     "metadata": {},
     "output_type": "execute_result"
    }
   ],
   "source": [
    "fifth_model = GradientBoostingClassifier(**grad_cv.best_params_)\n",
    "fifth_model.fit(sfs_features, y_train_labels)\n",
    "fifth_model.score(sfs_features, y_train_labels)"
   ]
  },
  {
   "attachments": {},
   "cell_type": "markdown",
   "metadata": {},
   "source": [
    "![five](images/model_five.png)"
   ]
  },
  {
   "attachments": {},
   "cell_type": "markdown",
   "metadata": {},
   "source": [
    "Worse **accuracy**, **F1**, and **recall**, but better **precision**. Interesting results, and I think I need some guidance here to improve. Let's compare my best model (`Model Four`) with the best model on the board."
   ]
  },
  {
   "attachments": {},
   "cell_type": "markdown",
   "metadata": {},
   "source": [
    "![comp](images/model_comp.png)"
   ]
  },
  {
   "attachments": {},
   "cell_type": "markdown",
   "metadata": {},
   "source": [
    "I want to look at two parameters in particular here, `max_depth` and `learning_rate`. Let's run a more robust search for just these two parameters, and then store them to evaluate how they affect accuracy. "
   ]
  },
  {
   "cell_type": "code",
   "execution_count": 28,
   "metadata": {},
   "outputs": [
    {
     "data": {
      "text/html": [
       "<div>\n",
       "<style scoped>\n",
       "    .dataframe tbody tr th:only-of-type {\n",
       "        vertical-align: middle;\n",
       "    }\n",
       "\n",
       "    .dataframe tbody tr th {\n",
       "        vertical-align: top;\n",
       "    }\n",
       "\n",
       "    .dataframe thead th {\n",
       "        text-align: right;\n",
       "    }\n",
       "</style>\n",
       "<table border=\"1\" class=\"dataframe\">\n",
       "  <thead>\n",
       "    <tr style=\"text-align: right;\">\n",
       "      <th></th>\n",
       "      <th>mean_fit_time</th>\n",
       "      <th>std_fit_time</th>\n",
       "      <th>mean_score_time</th>\n",
       "      <th>std_score_time</th>\n",
       "      <th>param_learning_rate</th>\n",
       "      <th>param_max_depth</th>\n",
       "      <th>params</th>\n",
       "      <th>split0_test_score</th>\n",
       "      <th>split1_test_score</th>\n",
       "      <th>mean_test_score</th>\n",
       "      <th>std_test_score</th>\n",
       "      <th>rank_test_score</th>\n",
       "    </tr>\n",
       "  </thead>\n",
       "  <tbody>\n",
       "    <tr>\n",
       "      <th>54</th>\n",
       "      <td>0.219643</td>\n",
       "      <td>0.002171</td>\n",
       "      <td>0.002723</td>\n",
       "      <td>7.207394e-04</td>\n",
       "      <td>0.9</td>\n",
       "      <td>1</td>\n",
       "      <td>{'learning_rate': 0.9000000000000001, 'max_dep...</td>\n",
       "      <td>0.727273</td>\n",
       "      <td>0.704545</td>\n",
       "      <td>0.715909</td>\n",
       "      <td>0.011364</td>\n",
       "      <td>1</td>\n",
       "    </tr>\n",
       "    <tr>\n",
       "      <th>73</th>\n",
       "      <td>0.291766</td>\n",
       "      <td>0.007507</td>\n",
       "      <td>0.002002</td>\n",
       "      <td>1.192093e-07</td>\n",
       "      <td>1.1</td>\n",
       "      <td>2</td>\n",
       "      <td>{'learning_rate': 1.1000000000000003, 'max_dep...</td>\n",
       "      <td>0.750000</td>\n",
       "      <td>0.659091</td>\n",
       "      <td>0.704545</td>\n",
       "      <td>0.045455</td>\n",
       "      <td>2</td>\n",
       "    </tr>\n",
       "    <tr>\n",
       "      <th>55</th>\n",
       "      <td>0.239780</td>\n",
       "      <td>0.002059</td>\n",
       "      <td>0.002003</td>\n",
       "      <td>1.311302e-06</td>\n",
       "      <td>0.9</td>\n",
       "      <td>2</td>\n",
       "      <td>{'learning_rate': 0.9000000000000001, 'max_dep...</td>\n",
       "      <td>0.750000</td>\n",
       "      <td>0.659091</td>\n",
       "      <td>0.704545</td>\n",
       "      <td>0.045455</td>\n",
       "      <td>2</td>\n",
       "    </tr>\n",
       "    <tr>\n",
       "      <th>72</th>\n",
       "      <td>0.220200</td>\n",
       "      <td>0.020018</td>\n",
       "      <td>0.003003</td>\n",
       "      <td>1.001120e-03</td>\n",
       "      <td>1.1</td>\n",
       "      <td>1</td>\n",
       "      <td>{'learning_rate': 1.1000000000000003, 'max_dep...</td>\n",
       "      <td>0.750000</td>\n",
       "      <td>0.659091</td>\n",
       "      <td>0.704545</td>\n",
       "      <td>0.045455</td>\n",
       "      <td>2</td>\n",
       "    </tr>\n",
       "    <tr>\n",
       "      <th>27</th>\n",
       "      <td>0.194499</td>\n",
       "      <td>0.003926</td>\n",
       "      <td>0.001995</td>\n",
       "      <td>1.382828e-05</td>\n",
       "      <td>0.6</td>\n",
       "      <td>1</td>\n",
       "      <td>{'learning_rate': 0.6000000000000001, 'max_dep...</td>\n",
       "      <td>0.681818</td>\n",
       "      <td>0.704545</td>\n",
       "      <td>0.693182</td>\n",
       "      <td>0.011364</td>\n",
       "      <td>5</td>\n",
       "    </tr>\n",
       "    <tr>\n",
       "      <th>...</th>\n",
       "      <td>...</td>\n",
       "      <td>...</td>\n",
       "      <td>...</td>\n",
       "      <td>...</td>\n",
       "      <td>...</td>\n",
       "      <td>...</td>\n",
       "      <td>...</td>\n",
       "      <td>...</td>\n",
       "      <td>...</td>\n",
       "      <td>...</td>\n",
       "      <td>...</td>\n",
       "      <td>...</td>\n",
       "    </tr>\n",
       "    <tr>\n",
       "      <th>76</th>\n",
       "      <td>0.524977</td>\n",
       "      <td>0.019518</td>\n",
       "      <td>0.002502</td>\n",
       "      <td>5.004406e-04</td>\n",
       "      <td>1.1</td>\n",
       "      <td>5</td>\n",
       "      <td>{'learning_rate': 1.1000000000000003, 'max_dep...</td>\n",
       "      <td>0.568182</td>\n",
       "      <td>0.522727</td>\n",
       "      <td>0.545455</td>\n",
       "      <td>0.022727</td>\n",
       "      <td>84</td>\n",
       "    </tr>\n",
       "    <tr>\n",
       "      <th>6</th>\n",
       "      <td>0.529897</td>\n",
       "      <td>0.045382</td>\n",
       "      <td>0.003003</td>\n",
       "      <td>1.192093e-07</td>\n",
       "      <td>0.3</td>\n",
       "      <td>7</td>\n",
       "      <td>{'learning_rate': 0.3, 'max_depth': 7}</td>\n",
       "      <td>0.613636</td>\n",
       "      <td>0.477273</td>\n",
       "      <td>0.545455</td>\n",
       "      <td>0.068182</td>\n",
       "      <td>84</td>\n",
       "    </tr>\n",
       "    <tr>\n",
       "      <th>50</th>\n",
       "      <td>0.575428</td>\n",
       "      <td>0.043444</td>\n",
       "      <td>0.002003</td>\n",
       "      <td>1.192093e-06</td>\n",
       "      <td>0.8</td>\n",
       "      <td>6</td>\n",
       "      <td>{'learning_rate': 0.8000000000000003, 'max_dep...</td>\n",
       "      <td>0.545455</td>\n",
       "      <td>0.545455</td>\n",
       "      <td>0.545455</td>\n",
       "      <td>0.000000</td>\n",
       "      <td>84</td>\n",
       "    </tr>\n",
       "    <tr>\n",
       "      <th>77</th>\n",
       "      <td>0.611056</td>\n",
       "      <td>0.056551</td>\n",
       "      <td>0.002502</td>\n",
       "      <td>5.006790e-04</td>\n",
       "      <td>1.1</td>\n",
       "      <td>6</td>\n",
       "      <td>{'learning_rate': 1.1000000000000003, 'max_dep...</td>\n",
       "      <td>0.500000</td>\n",
       "      <td>0.568182</td>\n",
       "      <td>0.534091</td>\n",
       "      <td>0.034091</td>\n",
       "      <td>89</td>\n",
       "    </tr>\n",
       "    <tr>\n",
       "      <th>85</th>\n",
       "      <td>0.447057</td>\n",
       "      <td>0.045985</td>\n",
       "      <td>0.003474</td>\n",
       "      <td>4.713535e-04</td>\n",
       "      <td>1.2</td>\n",
       "      <td>5</td>\n",
       "      <td>{'learning_rate': 1.2000000000000004, 'max_dep...</td>\n",
       "      <td>0.454545</td>\n",
       "      <td>0.522727</td>\n",
       "      <td>0.488636</td>\n",
       "      <td>0.034091</td>\n",
       "      <td>90</td>\n",
       "    </tr>\n",
       "  </tbody>\n",
       "</table>\n",
       "<p>90 rows × 12 columns</p>\n",
       "</div>"
      ],
      "text/plain": [
       "    mean_fit_time  std_fit_time  mean_score_time  std_score_time  \\\n",
       "54       0.219643      0.002171         0.002723    7.207394e-04   \n",
       "73       0.291766      0.007507         0.002002    1.192093e-07   \n",
       "55       0.239780      0.002059         0.002003    1.311302e-06   \n",
       "72       0.220200      0.020018         0.003003    1.001120e-03   \n",
       "27       0.194499      0.003926         0.001995    1.382828e-05   \n",
       "..            ...           ...              ...             ...   \n",
       "76       0.524977      0.019518         0.002502    5.004406e-04   \n",
       "6        0.529897      0.045382         0.003003    1.192093e-07   \n",
       "50       0.575428      0.043444         0.002003    1.192093e-06   \n",
       "77       0.611056      0.056551         0.002502    5.006790e-04   \n",
       "85       0.447057      0.045985         0.003474    4.713535e-04   \n",
       "\n",
       "   param_learning_rate param_max_depth  \\\n",
       "54                 0.9               1   \n",
       "73                 1.1               2   \n",
       "55                 0.9               2   \n",
       "72                 1.1               1   \n",
       "27                 0.6               1   \n",
       "..                 ...             ...   \n",
       "76                 1.1               5   \n",
       "6                  0.3               7   \n",
       "50                 0.8               6   \n",
       "77                 1.1               6   \n",
       "85                 1.2               5   \n",
       "\n",
       "                                               params  split0_test_score  \\\n",
       "54  {'learning_rate': 0.9000000000000001, 'max_dep...           0.727273   \n",
       "73  {'learning_rate': 1.1000000000000003, 'max_dep...           0.750000   \n",
       "55  {'learning_rate': 0.9000000000000001, 'max_dep...           0.750000   \n",
       "72  {'learning_rate': 1.1000000000000003, 'max_dep...           0.750000   \n",
       "27  {'learning_rate': 0.6000000000000001, 'max_dep...           0.681818   \n",
       "..                                                ...                ...   \n",
       "76  {'learning_rate': 1.1000000000000003, 'max_dep...           0.568182   \n",
       "6              {'learning_rate': 0.3, 'max_depth': 7}           0.613636   \n",
       "50  {'learning_rate': 0.8000000000000003, 'max_dep...           0.545455   \n",
       "77  {'learning_rate': 1.1000000000000003, 'max_dep...           0.500000   \n",
       "85  {'learning_rate': 1.2000000000000004, 'max_dep...           0.454545   \n",
       "\n",
       "    split1_test_score  mean_test_score  std_test_score  rank_test_score  \n",
       "54           0.704545         0.715909        0.011364                1  \n",
       "73           0.659091         0.704545        0.045455                2  \n",
       "55           0.659091         0.704545        0.045455                2  \n",
       "72           0.659091         0.704545        0.045455                2  \n",
       "27           0.704545         0.693182        0.011364                5  \n",
       "..                ...              ...             ...              ...  \n",
       "76           0.522727         0.545455        0.022727               84  \n",
       "6            0.477273         0.545455        0.068182               84  \n",
       "50           0.545455         0.545455        0.000000               84  \n",
       "77           0.568182         0.534091        0.034091               89  \n",
       "85           0.522727         0.488636        0.034091               90  \n",
       "\n",
       "[90 rows x 12 columns]"
      ]
     },
     "execution_count": 28,
     "metadata": {},
     "output_type": "execute_result"
    }
   ],
   "source": [
    "import numpy as np\n",
    "new_params = {'learning_rate': np.arange(0.3, 1.3, .1),\n",
    "              'max_depth': np.arange(1,10,1)}\n",
    "\n",
    "new_cv = GridSearchCV(GradientBoostingClassifier(), new_params, scoring=\"accuracy\", cv = 2, n_jobs=-1)\n",
    "new_cv.fit(X_train_labels, y_train_labels)\n",
    "results = pd.DataFrame(new_cv.cv_results_).sort_values(by = 'rank_test_score')\n",
    "results"
   ]
  },
  {
   "attachments": {},
   "cell_type": "markdown",
   "metadata": {},
   "source": [
    "Let's plot these results to get an idea of the effect of each hyperparameter on accuracy."
   ]
  },
  {
   "cell_type": "code",
   "execution_count": 29,
   "metadata": {},
   "outputs": [
    {
     "data": {
      "text/plain": [
       "<AxesSubplot: xlabel='param_learning_rate', ylabel='mean_test_score'>"
      ]
     },
     "execution_count": 29,
     "metadata": {},
     "output_type": "execute_result"
    },
    {
     "data": {
      "image/png": "[encoded data removed]",
      "text/plain": [
       "<Figure size 640x480 with 1 Axes>"
      ]
     },
     "metadata": {},
     "output_type": "display_data"
    }
   ],
   "source": [
    "import seaborn as sns\n",
    "sns.lineplot(data = results[results[\"param_max_depth\"].isin([1,2,3,4,5])], x = \"param_learning_rate\", y = \"mean_test_score\", hue= \"param_max_depth\")\n"
   ]
  },
  {
   "cell_type": "code",
   "execution_count": 30,
   "metadata": {},
   "outputs": [
    {
     "data": {
      "text/plain": [
       "<AxesSubplot: xlabel='param_max_depth', ylabel='mean_test_score'>"
      ]
     },
     "execution_count": 30,
     "metadata": {},
     "output_type": "execute_result"
    },
    {
     "data": {
      "image/png": "[encoded data removed]",
      "text/plain": [
       "<Figure size 640x480 with 1 Axes>"
      ]
     },
     "metadata": {},
     "output_type": "display_data"
    }
   ],
   "source": [
    "import seaborn as sns\n",
    "sns.set_palette(\"tab10\")\n",
    "sns.lineplot(data = results[results[\"param_learning_rate\"] > 0.6], x = \"param_max_depth\", y = \"mean_test_score\", hue= \"param_learning_rate\")\n"
   ]
  },
  {
   "attachments": {},
   "cell_type": "markdown",
   "metadata": {},
   "source": [
    "Interestingly, `max_depth` has rapid diminishing returns, but then bounces back a bit at the upper end. `learning_rate`, on the other hand, trends toward the default value, but branches either upward or downward depending on how you've set your depth. In general, it appears that across both my models and those of others in the course, tinkering with the `learning_rate` provided the greatest performance increases in terms of accuracy. Something I would've liked to explore more deeply is the feature selection aspect of building these models, but I wasn't able to get any input from others on how they went about automatically or manually selecting their features.\n",
    "\n",
    "Now that we have our best values for these two parameters, I want to run one more model with them.\n"
   ]
  },
  {
   "cell_type": "code",
   "execution_count": 32,
   "metadata": {},
   "outputs": [
    {
     "data": {
      "text/plain": [
       "1.0"
      ]
     },
     "execution_count": 32,
     "metadata": {},
     "output_type": "execute_result"
    }
   ],
   "source": [
    "sixth_model = GradientBoostingClassifier(**new_cv.best_params_)\n",
    "sixth_model.fit(X_train_labels, y_train_labels)\n",
    "sixth_model.score(X_train_labels, y_train_labels)"
   ]
  },
  {
   "attachments": {},
   "cell_type": "markdown",
   "metadata": {},
   "source": [
    "And the results:"
   ]
  },
  {
   "attachments": {},
   "cell_type": "markdown",
   "metadata": {},
   "source": [
    "![last](last_model.png)"
   ]
  },
  {
   "attachments": {},
   "cell_type": "markdown",
   "metadata": {},
   "source": [
    "Well, we're worse of than how we started. Let's try to add one more improvement by selecting our best features again. This time, I'm just going to use the 10 best as evaluated by the model itself:\n"
   ]
  },
  {
   "cell_type": "code",
   "execution_count": 36,
   "metadata": {},
   "outputs": [
    {
     "data": {
      "text/html": [
       "<div>\n",
       "<style scoped>\n",
       "    .dataframe tbody tr th:only-of-type {\n",
       "        vertical-align: middle;\n",
       "    }\n",
       "\n",
       "    .dataframe tbody tr th {\n",
       "        vertical-align: top;\n",
       "    }\n",
       "\n",
       "    .dataframe thead th {\n",
       "        text-align: right;\n",
       "    }\n",
       "</style>\n",
       "<table border=\"1\" class=\"dataframe\">\n",
       "  <thead>\n",
       "    <tr style=\"text-align: right;\">\n",
       "      <th></th>\n",
       "      <th>index</th>\n",
       "      <th>Importance</th>\n",
       "    </tr>\n",
       "  </thead>\n",
       "  <tbody>\n",
       "    <tr>\n",
       "      <th>0</th>\n",
       "      <td>GDP per capita</td>\n",
       "      <td>0.193413</td>\n",
       "    </tr>\n",
       "    <tr>\n",
       "      <th>2</th>\n",
       "      <td>Healthy life expectancy</td>\n",
       "      <td>0.140020</td>\n",
       "    </tr>\n",
       "    <tr>\n",
       "      <th>1</th>\n",
       "      <td>Social support</td>\n",
       "      <td>0.122120</td>\n",
       "    </tr>\n",
       "    <tr>\n",
       "      <th>5</th>\n",
       "      <td>Perceptions of corruption</td>\n",
       "      <td>0.102240</td>\n",
       "    </tr>\n",
       "    <tr>\n",
       "      <th>3</th>\n",
       "      <td>Freedom to make life choices</td>\n",
       "      <td>0.098361</td>\n",
       "    </tr>\n",
       "    <tr>\n",
       "      <th>4</th>\n",
       "      <td>Generosity</td>\n",
       "      <td>0.092419</td>\n",
       "    </tr>\n",
       "    <tr>\n",
       "      <th>6</th>\n",
       "      <td>Terrorist_attacks</td>\n",
       "      <td>0.083745</td>\n",
       "    </tr>\n",
       "    <tr>\n",
       "      <th>23</th>\n",
       "      <td>x1_Sub-Saharan Africa</td>\n",
       "      <td>0.028511</td>\n",
       "    </tr>\n",
       "    <tr>\n",
       "      <th>7</th>\n",
       "      <td>x0_Africa</td>\n",
       "      <td>0.019241</td>\n",
       "    </tr>\n",
       "    <tr>\n",
       "      <th>16</th>\n",
       "      <td>x1_Latin America and the Caribbean</td>\n",
       "      <td>0.014789</td>\n",
       "    </tr>\n",
       "    <tr>\n",
       "      <th>10</th>\n",
       "      <td>x0_Europe</td>\n",
       "      <td>0.013777</td>\n",
       "    </tr>\n",
       "    <tr>\n",
       "      <th>9</th>\n",
       "      <td>x0_Asia</td>\n",
       "      <td>0.013225</td>\n",
       "    </tr>\n",
       "    <tr>\n",
       "      <th>22</th>\n",
       "      <td>x1_Southern Europe</td>\n",
       "      <td>0.012632</td>\n",
       "    </tr>\n",
       "    <tr>\n",
       "      <th>21</th>\n",
       "      <td>x1_Southern Asia</td>\n",
       "      <td>0.012178</td>\n",
       "    </tr>\n",
       "    <tr>\n",
       "      <th>8</th>\n",
       "      <td>x0_Americas</td>\n",
       "      <td>0.008544</td>\n",
       "    </tr>\n",
       "    <tr>\n",
       "      <th>15</th>\n",
       "      <td>x1_Eastern Europe</td>\n",
       "      <td>0.008061</td>\n",
       "    </tr>\n",
       "    <tr>\n",
       "      <th>24</th>\n",
       "      <td>x1_Western Asia</td>\n",
       "      <td>0.007689</td>\n",
       "    </tr>\n",
       "    <tr>\n",
       "      <th>25</th>\n",
       "      <td>x1_Western Europe</td>\n",
       "      <td>0.007532</td>\n",
       "    </tr>\n",
       "    <tr>\n",
       "      <th>17</th>\n",
       "      <td>x1_Northern Africa</td>\n",
       "      <td>0.005184</td>\n",
       "    </tr>\n",
       "    <tr>\n",
       "      <th>20</th>\n",
       "      <td>x1_South-eastern Asia</td>\n",
       "      <td>0.004486</td>\n",
       "    </tr>\n",
       "    <tr>\n",
       "      <th>13</th>\n",
       "      <td>x1_Central Asia</td>\n",
       "      <td>0.004240</td>\n",
       "    </tr>\n",
       "    <tr>\n",
       "      <th>14</th>\n",
       "      <td>x1_Eastern Asia</td>\n",
       "      <td>0.003428</td>\n",
       "    </tr>\n",
       "    <tr>\n",
       "      <th>19</th>\n",
       "      <td>x1_Northern Europe</td>\n",
       "      <td>0.001669</td>\n",
       "    </tr>\n",
       "    <tr>\n",
       "      <th>12</th>\n",
       "      <td>x1_Australia and New Zealand</td>\n",
       "      <td>0.001208</td>\n",
       "    </tr>\n",
       "    <tr>\n",
       "      <th>18</th>\n",
       "      <td>x1_Northern America</td>\n",
       "      <td>0.000819</td>\n",
       "    </tr>\n",
       "    <tr>\n",
       "      <th>11</th>\n",
       "      <td>x0_Oceania</td>\n",
       "      <td>0.000467</td>\n",
       "    </tr>\n",
       "  </tbody>\n",
       "</table>\n",
       "</div>"
      ],
      "text/plain": [
       "                                 index  Importance\n",
       "0                       GDP per capita    0.193413\n",
       "2              Healthy life expectancy    0.140020\n",
       "1                       Social support    0.122120\n",
       "5            Perceptions of corruption    0.102240\n",
       "3         Freedom to make life choices    0.098361\n",
       "4                           Generosity    0.092419\n",
       "6                    Terrorist_attacks    0.083745\n",
       "23               x1_Sub-Saharan Africa    0.028511\n",
       "7                            x0_Africa    0.019241\n",
       "16  x1_Latin America and the Caribbean    0.014789\n",
       "10                           x0_Europe    0.013777\n",
       "9                              x0_Asia    0.013225\n",
       "22                  x1_Southern Europe    0.012632\n",
       "21                    x1_Southern Asia    0.012178\n",
       "8                          x0_Americas    0.008544\n",
       "15                   x1_Eastern Europe    0.008061\n",
       "24                     x1_Western Asia    0.007689\n",
       "25                   x1_Western Europe    0.007532\n",
       "17                  x1_Northern Africa    0.005184\n",
       "20               x1_South-eastern Asia    0.004486\n",
       "13                     x1_Central Asia    0.004240\n",
       "14                     x1_Eastern Asia    0.003428\n",
       "19                  x1_Northern Europe    0.001669\n",
       "12        x1_Australia and New Zealand    0.001208\n",
       "18                 x1_Northern America    0.000819\n",
       "11                          x0_Oceania    0.000467"
      ]
     },
     "execution_count": 36,
     "metadata": {},
     "output_type": "execute_result"
    }
   ],
   "source": [
    "feat_importances_boost = pd.DataFrame(data = first_model.feature_importances_, columns= ['Importance'], \\\n",
    "                                index=first_model.feature_names).reset_index().sort_values(by = \"Importance\", ascending = False)\n",
    "\n",
    "feat_importances_boost"
   ]
  },
  {
   "cell_type": "markdown",
   "metadata": {},
   "source": [
    "I think this is a case where feedback from teammates would've helped a lot, but I still think that has revealed not only the trade-off between hyperparameters, but also how even your own testing metrics can still fail to account for all the difficulties of data prediction. With more time, I would really like to revisit this specific competition, and determine how I could better tune my `GradientBoosting` parameters. "
   ]
  }
 ],
 "metadata": {
  "kernelspec": {
   "display_name": "Python 3",
   "language": "python",
   "name": "python3"
  },
  "language_info": {
   "codemirror_mode": {
    "name": "ipython",
    "version": 3
   },
   "file_extension": ".py",
   "mimetype": "text/x-python",
   "name": "python",
   "nbconvert_exporter": "python",
   "pygments_lexer": "ipython3",
   "version": "3.9.1"
  },
  "orig_nbformat": 4,
  "vscode": {
   "interpreter": {
    "hash": "df3f9ace5f9d3e6d9fbf00729c359187738d99e91533dbefa9173227466def17"
   }
  }
 },
 "nbformat": 4,
 "nbformat_minor": 2
}
